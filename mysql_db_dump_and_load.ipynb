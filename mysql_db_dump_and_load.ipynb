{
 "cells": [
  {
   "cell_type": "code",
   "execution_count": 1,
   "id": "e1710541",
   "metadata": {},
   "outputs": [],
   "source": [
    "import os\n",
    "from datetime import datetime\n",
    "\n",
    "import MySQLdb"
   ]
  },
  {
   "cell_type": "code",
   "execution_count": 2,
   "id": "7b6ed135",
   "metadata": {},
   "outputs": [],
   "source": [
    "def execute_query(cursor, query_string, print_out=True):\n",
    "    \n",
    "    print('Executing the following query as {} on {}:\\n'.format(username, hostname))\n",
    "    print('mysql>', query_string)\n",
    "    \n",
    "    if query_string.count(';') > 1:\n",
    "        for single_query in query_string.split(';'):\n",
    "            if len(single_query.strip()) > 0:\n",
    "                cursor.execute(single_query)\n",
    "    else:\n",
    "        cursor.execute(query_string)\n",
    "        \n",
    "    if print_out:\n",
    "        print('\\nOutput:\\n')\n",
    "        for line in cursor:\n",
    "            print(line)\n",
    "    return"
   ]
  },
  {
   "cell_type": "code",
   "execution_count": 3,
   "id": "bc563c61",
   "metadata": {},
   "outputs": [],
   "source": [
    "# mysql credentials\n",
    "hostname = \"localhost\"\n",
    "username = \"pystonks_dev\"\n",
    "pw = 'pychonkee'\n",
    "\n",
    "# connect to mysql\n",
    "mydb = MySQLdb.connect(\n",
    "  host=hostname,\n",
    "  user=username,\n",
    "  password=pw\n",
    ")\n",
    "mycursor = mydb.cursor()"
   ]
  },
  {
   "cell_type": "code",
   "execution_count": 4,
   "id": "f372577b",
   "metadata": {},
   "outputs": [
    {
     "name": "stderr",
     "output_type": "stream",
     "text": [
      "mysqldump: [Warning] Using a password on the command line interface can be insecure.\n"
     ]
    },
    {
     "data": {
      "text/plain": [
       "0"
      ]
     },
     "execution_count": 4,
     "metadata": {},
     "output_type": "execute_result"
    }
   ],
   "source": [
    "# dump db to sql file\n",
    "\n",
    "output_dir = 'data/mysql_dump/'\n",
    "date_today = datetime.today().strftime('%Y%m%d')\n",
    "input_db_name = 'pystonks_dwh'\n",
    "\n",
    "params = [username, pw, input_db_name, output_dir, input_db_name, date_today]\n",
    "command = 'mysqldump -u {} -p{} {} > {}{}_dump_{}.sql'.format(*params)\n",
    "\n",
    "os.system(command)"
   ]
  },
  {
   "cell_type": "code",
   "execution_count": 5,
   "id": "66f78117",
   "metadata": {},
   "outputs": [
    {
     "name": "stderr",
     "output_type": "stream",
     "text": [
      "mysql: [Warning] Using a password on the command line interface can be insecure.\n"
     ]
    },
    {
     "name": "stdout",
     "output_type": "stream",
     "text": [
      "Executing the following query as pystonks_dev on localhost:\n",
      "\n",
      "mysql> CREATE DATABASE import;\n"
     ]
    },
    {
     "data": {
      "text/plain": [
       "0"
      ]
     },
     "execution_count": 5,
     "metadata": {},
     "output_type": "execute_result"
    }
   ],
   "source": [
    "# load sql file to db\n",
    "\n",
    "input_dir = 'data/mysql_dump/'\n",
    "input_filename = 'pystonks_dwh_dump_20210930'\n",
    "out_db_name = 'import'\n",
    "\n",
    "# crate database\n",
    "query_string = \"CREATE DATABASE {};\".format(out_db_name)\n",
    "execute_query(mycursor, query_string, print_out=False)\n",
    "\n",
    "# load data\n",
    "params = [username, pw, hostname, out_db_name, input_dir, input_filename]\n",
    "command = 'mysql -u {} -p{} -h {} {} < {}{}.sql'.format(*params)\n",
    "\n",
    "os.system(command)"
   ]
  }
 ],
 "metadata": {
  "kernelspec": {
   "display_name": "Python 3 (ipykernel)",
   "language": "python",
   "name": "python3"
  },
  "language_info": {
   "codemirror_mode": {
    "name": "ipython",
    "version": 3
   },
   "file_extension": ".py",
   "mimetype": "text/x-python",
   "name": "python",
   "nbconvert_exporter": "python",
   "pygments_lexer": "ipython3",
   "version": "3.8.11"
  },
  "toc": {
   "base_numbering": 1,
   "nav_menu": {},
   "number_sections": true,
   "sideBar": true,
   "skip_h1_title": false,
   "title_cell": "Table of Contents",
   "title_sidebar": "Contents",
   "toc_cell": false,
   "toc_position": {},
   "toc_section_display": true,
   "toc_window_display": false
  }
 },
 "nbformat": 4,
 "nbformat_minor": 5
}
