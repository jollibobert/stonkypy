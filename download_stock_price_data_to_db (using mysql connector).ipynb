{
 "cells": [
  {
   "cell_type": "markdown",
   "id": "a720516d",
   "metadata": {},
   "source": [
    "# Download stock price data from Yahoo! Finance and load to MySQL"
   ]
  },
  {
   "cell_type": "markdown",
   "id": "aa33065a",
   "metadata": {},
   "source": [
    "## Load Libraries"
   ]
  },
  {
   "cell_type": "code",
   "execution_count": 1,
   "id": "b41a3ac4",
   "metadata": {},
   "outputs": [],
   "source": [
    "import os\n",
    "from datetime import datetime\n",
    "\n",
    "import numpy as np\n",
    "import pandas as pd\n",
    "import matplotlib.pyplot as plt\n",
    "import mysql.connector\n",
    "from yahoofinancials import YahooFinancials"
   ]
  },
  {
   "cell_type": "markdown",
   "id": "acf771e3",
   "metadata": {},
   "source": [
    "## Metadata"
   ]
  },
  {
   "cell_type": "code",
   "execution_count": 2,
   "id": "9175bf8d",
   "metadata": {},
   "outputs": [],
   "source": [
    "# mysql credentials\n",
    "hostname = \"localhost\"\n",
    "username = \"pystonks_dev\"\n",
    "pw = 'pychonkee'\n",
    "\n",
    "# db metadata\n",
    "db_name = 'pystonks_dwh'"
   ]
  },
  {
   "cell_type": "markdown",
   "id": "7ff1c8f7",
   "metadata": {},
   "source": [
    "## Helper Functions"
   ]
  },
  {
   "cell_type": "code",
   "execution_count": 14,
   "id": "3dd528f0",
   "metadata": {},
   "outputs": [],
   "source": [
    "def execute_query(cursor, query_string, print_out=True):\n",
    "    \n",
    "    print('Executing the following query as {} on {}:\\n'.format(username, hostname))\n",
    "    print('mysql>', query_string)\n",
    "    \n",
    "    if query_string.count(';') > 1:\n",
    "        multi = True\n",
    "    else:\n",
    "        multi = False\n",
    "    \n",
    "    cursor.execute(query_string, multi=multi)\n",
    "    \n",
    "    if print_out:\n",
    "        print('\\nOutput:\\n')\n",
    "        for line in cursor:\n",
    "            print(line)\n",
    "    return\n",
    "\n",
    "\n",
    "def read_query(filepath):\n",
    "    with open(filepath, 'r') as handle:\n",
    "        query_string = handle.read()\n",
    "    return query_string\n",
    "\n",
    "\n",
    "def execute_script(cursor, filepath, print_out=True):\n",
    "    query_string = read_query(filepath)\n",
    "    execute_query(cursor, query_string, print_out=print_out)\n",
    "    return"
   ]
  },
  {
   "cell_type": "markdown",
   "id": "844119af",
   "metadata": {},
   "source": [
    "## Create pystonks db"
   ]
  },
  {
   "cell_type": "code",
   "execution_count": 4,
   "id": "e6805bcd",
   "metadata": {},
   "outputs": [
    {
     "name": "stdout",
     "output_type": "stream",
     "text": [
      "Executing the following query as pystonks_dev on localhost:\n",
      "\n",
      "mysql> CREATE DATABASE pystonks_dwh;\n",
      "\n",
      "Output:\n",
      "\n"
     ]
    }
   ],
   "source": [
    "# connect to mysql\n",
    "mydb = mysql.connector.connect(\n",
    "  host=hostname,\n",
    "  user=username,\n",
    "  password=pw\n",
    ")\n",
    "mycursor = mydb.cursor()\n",
    "\n",
    "# execute query to create a database\n",
    "query_string = \"CREATE DATABASE {};\".format(db_name)\n",
    "execute_query(mycursor, query_string)"
   ]
  },
  {
   "cell_type": "markdown",
   "id": "3653ee88",
   "metadata": {},
   "source": [
    "## Create tables"
   ]
  },
  {
   "cell_type": "markdown",
   "id": "a92c21c8",
   "metadata": {},
   "source": [
    "### Connect to db"
   ]
  },
  {
   "cell_type": "code",
   "execution_count": 5,
   "id": "1c51fc18",
   "metadata": {},
   "outputs": [
    {
     "name": "stdout",
     "output_type": "stream",
     "text": [
      "Executing the following query as pystonks_dev on localhost:\n",
      "\n",
      "mysql> CREATE TABLE watch (name VARCHAR(255), address VARCHAR(255))\n",
      "\n",
      "Output:\n",
      "\n"
     ]
    }
   ],
   "source": [
    "# connect to database\n",
    "mydb = mysql.connector.connect(\n",
    "  host=hostname,\n",
    "  user=username,\n",
    "  password=pw,\n",
    "  database=db_name\n",
    ")\n",
    "mycursor = mydb.cursor()\n",
    "\n",
    "# execute query to create a table\n",
    "table_name = 'watch'\n",
    "query_string = \"CREATE TABLE {} (name VARCHAR(255), address VARCHAR(255))\".format(table_name)\n",
    "execute_query(mycursor, query_string)"
   ]
  },
  {
   "cell_type": "markdown",
   "id": "824f3732",
   "metadata": {},
   "source": [
    "### Execute sql scripts to create tables"
   ]
  },
  {
   "cell_type": "code",
   "execution_count": 15,
   "id": "9e45483f",
   "metadata": {},
   "outputs": [
    {
     "name": "stdout",
     "output_type": "stream",
     "text": [
      "Executing the following query as pystonks_dev on localhost:\n",
      "\n",
      "mysql> \n",
      "\n",
      "drop table if exists watch;\n",
      "create table watch(\n",
      "    symbol char(6) primary key,\n",
      "    nickname char(20),\n",
      "    watchIndustry char(20)\n",
      ");\n",
      "\n",
      "\n",
      "Output:\n",
      "\n"
     ]
    }
   ],
   "source": [
    "execute_script(mycursor, 'sql/create_table/create_watch.sql')"
   ]
  },
  {
   "cell_type": "code",
   "execution_count": null,
   "id": "31ef42c4",
   "metadata": {},
   "outputs": [],
   "source": []
  },
  {
   "cell_type": "code",
   "execution_count": null,
   "id": "b3b86a3f",
   "metadata": {},
   "outputs": [],
   "source": []
  },
  {
   "cell_type": "code",
   "execution_count": null,
   "id": "54ebe61b",
   "metadata": {},
   "outputs": [],
   "source": []
  },
  {
   "cell_type": "code",
   "execution_count": null,
   "id": "5c102a09",
   "metadata": {},
   "outputs": [],
   "source": []
  },
  {
   "cell_type": "code",
   "execution_count": null,
   "id": "83decc6c",
   "metadata": {},
   "outputs": [],
   "source": []
  },
  {
   "cell_type": "code",
   "execution_count": null,
   "id": "ce312e3e",
   "metadata": {},
   "outputs": [],
   "source": []
  },
  {
   "cell_type": "code",
   "execution_count": null,
   "id": "5d42e846",
   "metadata": {},
   "outputs": [],
   "source": []
  },
  {
   "cell_type": "code",
   "execution_count": null,
   "id": "58b4297d",
   "metadata": {},
   "outputs": [],
   "source": []
  },
  {
   "cell_type": "code",
   "execution_count": null,
   "id": "09854d91",
   "metadata": {},
   "outputs": [],
   "source": []
  },
  {
   "cell_type": "code",
   "execution_count": null,
   "id": "bc89cfa8",
   "metadata": {},
   "outputs": [],
   "source": []
  }
 ],
 "metadata": {
  "kernelspec": {
   "display_name": "Python 3 (ipykernel)",
   "language": "python",
   "name": "python3"
  },
  "language_info": {
   "codemirror_mode": {
    "name": "ipython",
    "version": 3
   },
   "file_extension": ".py",
   "mimetype": "text/x-python",
   "name": "python",
   "nbconvert_exporter": "python",
   "pygments_lexer": "ipython3",
   "version": "3.8.11"
  },
  "toc": {
   "base_numbering": 1,
   "nav_menu": {},
   "number_sections": true,
   "sideBar": true,
   "skip_h1_title": true,
   "title_cell": "Table of Contents",
   "title_sidebar": "Contents",
   "toc_cell": false,
   "toc_position": {
    "height": "calc(100% - 180px)",
    "left": "10px",
    "top": "150px",
    "width": "250px"
   },
   "toc_section_display": true,
   "toc_window_display": true
  }
 },
 "nbformat": 4,
 "nbformat_minor": 5
}
