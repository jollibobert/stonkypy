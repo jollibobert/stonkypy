{
 "cells": [
  {
   "cell_type": "markdown",
   "id": "c04350bf",
   "metadata": {},
   "source": [
    "# download stock price data from yahoo! finance\n",
    "\n",
    "sources:\n",
    "- https://towardsdatascience.com/a-comprehensive-guide-to-downloading-stock-prices-in-python-2cd93ff821d4"
   ]
  },
  {
   "cell_type": "markdown",
   "id": "e781b4ba",
   "metadata": {},
   "source": [
    "## load libraries"
   ]
  },
  {
   "cell_type": "code",
   "execution_count": 2,
   "id": "18195fe5",
   "metadata": {},
   "outputs": [],
   "source": [
    "import os\n",
    "\n",
    "import numpy as np\n",
    "import pandas as pd\n",
    "import matplotlib.pyplot as plt\n",
    "import yfinance as yf\n",
    "from yahoofinancials import YahooFinancials"
   ]
  },
  {
   "cell_type": "markdown",
   "id": "dae88399",
   "metadata": {},
   "source": [
    "## yfinance"
   ]
  },
  {
   "cell_type": "markdown",
   "id": "d794fa91",
   "metadata": {},
   "source": [
    "### download example"
   ]
  },
  {
   "cell_type": "code",
   "execution_count": 12,
   "id": "72516605",
   "metadata": {},
   "outputs": [
    {
     "name": "stdout",
     "output_type": "stream",
     "text": [
      "(252, 6)\n"
     ]
    },
    {
     "data": {
      "text/html": [
       "<div>\n",
       "<style scoped>\n",
       "    .dataframe tbody tr th:only-of-type {\n",
       "        vertical-align: middle;\n",
       "    }\n",
       "\n",
       "    .dataframe tbody tr th {\n",
       "        vertical-align: top;\n",
       "    }\n",
       "\n",
       "    .dataframe thead th {\n",
       "        text-align: right;\n",
       "    }\n",
       "</style>\n",
       "<table border=\"1\" class=\"dataframe\">\n",
       "  <thead>\n",
       "    <tr style=\"text-align: right;\">\n",
       "      <th></th>\n",
       "      <th>Open</th>\n",
       "      <th>High</th>\n",
       "      <th>Low</th>\n",
       "      <th>Close</th>\n",
       "      <th>Adj Close</th>\n",
       "      <th>Volume</th>\n",
       "    </tr>\n",
       "    <tr>\n",
       "      <th>Date</th>\n",
       "      <th></th>\n",
       "      <th></th>\n",
       "      <th></th>\n",
       "      <th></th>\n",
       "      <th></th>\n",
       "      <th></th>\n",
       "    </tr>\n",
       "  </thead>\n",
       "  <tbody>\n",
       "    <tr>\n",
       "      <th>2019-12-23</th>\n",
       "      <td>82.356003</td>\n",
       "      <td>84.402000</td>\n",
       "      <td>82.000000</td>\n",
       "      <td>83.844002</td>\n",
       "      <td>83.844002</td>\n",
       "      <td>66598000</td>\n",
       "    </tr>\n",
       "    <tr>\n",
       "      <th>2019-12-24</th>\n",
       "      <td>83.671997</td>\n",
       "      <td>85.094002</td>\n",
       "      <td>82.538002</td>\n",
       "      <td>85.050003</td>\n",
       "      <td>85.050003</td>\n",
       "      <td>40273500</td>\n",
       "    </tr>\n",
       "    <tr>\n",
       "      <th>2019-12-26</th>\n",
       "      <td>85.582001</td>\n",
       "      <td>86.695999</td>\n",
       "      <td>85.269997</td>\n",
       "      <td>86.188004</td>\n",
       "      <td>86.188004</td>\n",
       "      <td>53169500</td>\n",
       "    </tr>\n",
       "    <tr>\n",
       "      <th>2019-12-27</th>\n",
       "      <td>87.000000</td>\n",
       "      <td>87.061996</td>\n",
       "      <td>85.222000</td>\n",
       "      <td>86.075996</td>\n",
       "      <td>86.075996</td>\n",
       "      <td>49728500</td>\n",
       "    </tr>\n",
       "    <tr>\n",
       "      <th>2019-12-30</th>\n",
       "      <td>85.758003</td>\n",
       "      <td>85.800003</td>\n",
       "      <td>81.851997</td>\n",
       "      <td>82.940002</td>\n",
       "      <td>82.940002</td>\n",
       "      <td>62932000</td>\n",
       "    </tr>\n",
       "  </tbody>\n",
       "</table>\n",
       "</div>"
      ],
      "text/plain": [
       "                 Open       High        Low      Close  Adj Close    Volume\n",
       "Date                                                                       \n",
       "2019-12-23  82.356003  84.402000  82.000000  83.844002  83.844002  66598000\n",
       "2019-12-24  83.671997  85.094002  82.538002  85.050003  85.050003  40273500\n",
       "2019-12-26  85.582001  86.695999  85.269997  86.188004  86.188004  53169500\n",
       "2019-12-27  87.000000  87.061996  85.222000  86.075996  86.075996  49728500\n",
       "2019-12-30  85.758003  85.800003  81.851997  82.940002  82.940002  62932000"
      ]
     },
     "execution_count": 12,
     "metadata": {},
     "output_type": "execute_result"
    }
   ],
   "source": [
    "tsla_df = yf.download('TSLA', \n",
    "                      start='2019-01-01', \n",
    "                      end='2019-12-31', \n",
    "                      progress=False)\n",
    "\n",
    "print(tsla_df.shape)\n",
    "tsla_df.tail()"
   ]
  },
  {
   "cell_type": "markdown",
   "id": "c3a7eacc",
   "metadata": {},
   "source": [
    "###  ticker example"
   ]
  },
  {
   "cell_type": "code",
   "execution_count": 30,
   "id": "1250c437",
   "metadata": {},
   "outputs": [
    {
     "name": "stdout",
     "output_type": "stream",
     "text": [
      "151\n",
      "['zip', 'sector', 'fullTimeEmployees', 'longBusinessSummary', 'city']\n",
      "NMS\n"
     ]
    },
    {
     "data": {
      "image/png": "[encoded data removed]",
      "text/plain": [
       "<Figure size 432x288 with 1 Axes>"
      ]
     },
     "metadata": {
      "needs_background": "light"
     },
     "output_type": "display_data"
    }
   ],
   "source": [
    "ticker = yf.Ticker('TSLA')\n",
    "\n",
    "info = ticker.info\n",
    "info_keys = list(info.keys())\n",
    "print(len(info_keys))\n",
    "print(info_keys[:5])\n",
    "print(info['exchange'])\n",
    "\n",
    "tsla_df = ticker.history(period=\"max\")\n",
    "\n",
    "tsla_df['Close'].plot(title=\"TSLA's stock price\")\n",
    "plt.show()"
   ]
  },
  {
   "cell_type": "markdown",
   "id": "52bd0619",
   "metadata": {},
   "source": [
    "## yahoo_financials"
   ]
  },
  {
   "cell_type": "markdown",
   "id": "fa8b3881",
   "metadata": {},
   "source": [
    "### download example"
   ]
  },
  {
   "cell_type": "code",
   "execution_count": 45,
   "id": "79638d7d",
   "metadata": {},
   "outputs": [
    {
     "data": {
      "text/plain": [
       "{'TSLA': {'exchange': 'NMS',\n",
       "  'shortName': 'Tesla, Inc.',\n",
       "  'longName': 'Tesla, Inc.',\n",
       "  'exchangeTimezoneName': 'America/New_York',\n",
       "  'exchangeTimezoneShortName': 'EDT',\n",
       "  'isEsgPopulated': False,\n",
       "  'gmtOffSetMilliseconds': '-14400000',\n",
       "  'quoteType': 'EQUITY',\n",
       "  'symbol': 'TSLA',\n",
       "  'messageBoardId': 'finmb_27444752',\n",
       "  'market': 'us_market'}}"
      ]
     },
     "metadata": {},
     "output_type": "display_data"
    },
    {
     "data": {
      "text/html": [
       "<div>\n",
       "<style scoped>\n",
       "    .dataframe tbody tr th:only-of-type {\n",
       "        vertical-align: middle;\n",
       "    }\n",
       "\n",
       "    .dataframe tbody tr th {\n",
       "        vertical-align: top;\n",
       "    }\n",
       "\n",
       "    .dataframe thead th {\n",
       "        text-align: right;\n",
       "    }\n",
       "</style>\n",
       "<table border=\"1\" class=\"dataframe\">\n",
       "  <thead>\n",
       "    <tr style=\"text-align: right;\">\n",
       "      <th></th>\n",
       "      <th>high</th>\n",
       "      <th>low</th>\n",
       "      <th>open</th>\n",
       "      <th>close</th>\n",
       "      <th>volume</th>\n",
       "      <th>adjclose</th>\n",
       "    </tr>\n",
       "    <tr>\n",
       "      <th>formatted_date</th>\n",
       "      <th></th>\n",
       "      <th></th>\n",
       "      <th></th>\n",
       "      <th></th>\n",
       "      <th></th>\n",
       "      <th></th>\n",
       "    </tr>\n",
       "  </thead>\n",
       "  <tbody>\n",
       "    <tr>\n",
       "      <th>2019-12-02</th>\n",
       "      <td>67.772003</td>\n",
       "      <td>65.449997</td>\n",
       "      <td>65.879997</td>\n",
       "      <td>67.178001</td>\n",
       "      <td>147591000</td>\n",
       "      <td>67.178001</td>\n",
       "    </tr>\n",
       "    <tr>\n",
       "      <th>2019-12-09</th>\n",
       "      <td>73.042000</td>\n",
       "      <td>67.015999</td>\n",
       "      <td>67.318001</td>\n",
       "      <td>71.678001</td>\n",
       "      <td>195420000</td>\n",
       "      <td>71.678001</td>\n",
       "    </tr>\n",
       "    <tr>\n",
       "      <th>2019-12-16</th>\n",
       "      <td>82.599998</td>\n",
       "      <td>72.500000</td>\n",
       "      <td>72.510002</td>\n",
       "      <td>81.117996</td>\n",
       "      <td>368259000</td>\n",
       "      <td>81.117996</td>\n",
       "    </tr>\n",
       "    <tr>\n",
       "      <th>2019-12-23</th>\n",
       "      <td>87.061996</td>\n",
       "      <td>82.000000</td>\n",
       "      <td>82.356003</td>\n",
       "      <td>86.075996</td>\n",
       "      <td>209769500</td>\n",
       "      <td>86.075996</td>\n",
       "    </tr>\n",
       "    <tr>\n",
       "      <th>2019-12-30</th>\n",
       "      <td>85.800003</td>\n",
       "      <td>81.851997</td>\n",
       "      <td>85.758003</td>\n",
       "      <td>82.940002</td>\n",
       "      <td>62932000</td>\n",
       "      <td>82.940002</td>\n",
       "    </tr>\n",
       "  </tbody>\n",
       "</table>\n",
       "</div>"
      ],
      "text/plain": [
       "                     high        low       open      close     volume  \\\n",
       "formatted_date                                                          \n",
       "2019-12-02      67.772003  65.449997  65.879997  67.178001  147591000   \n",
       "2019-12-09      73.042000  67.015999  67.318001  71.678001  195420000   \n",
       "2019-12-16      82.599998  72.500000  72.510002  81.117996  368259000   \n",
       "2019-12-23      87.061996  82.000000  82.356003  86.075996  209769500   \n",
       "2019-12-30      85.800003  81.851997  85.758003  82.940002   62932000   \n",
       "\n",
       "                 adjclose  \n",
       "formatted_date             \n",
       "2019-12-02      67.178001  \n",
       "2019-12-09      71.678001  \n",
       "2019-12-16      81.117996  \n",
       "2019-12-23      86.075996  \n",
       "2019-12-30      82.940002  "
      ]
     },
     "execution_count": 45,
     "metadata": {},
     "output_type": "execute_result"
    }
   ],
   "source": [
    "yahoo_financials = YahooFinancials('TSLA')\n",
    "\n",
    "display(yahoo_financials.get_stock_quote_type_data())\n",
    "\n",
    "data = yahoo_financials.get_historical_price_data(start_date='2000-01-01', \n",
    "                                                  end_date='2019-12-31', \n",
    "                                                  time_interval='weekly')\n",
    "\n",
    "tsla_df = pd.DataFrame(data['TSLA']['prices'])\n",
    "tsla_df = tsla_df.drop('date', axis=1).set_index('formatted_date')\n",
    "tsla_df.tail()"
   ]
  },
  {
   "cell_type": "markdown",
   "id": "ccc20c9b",
   "metadata": {},
   "source": [
    "## download for list of companies example"
   ]
  },
  {
   "cell_type": "code",
   "execution_count": 43,
   "id": "81ca1be0",
   "metadata": {},
   "outputs": [
    {
     "name": "stdout",
     "output_type": "stream",
     "text": [
      "(52, 4)\n"
     ]
    },
    {
     "data": {
      "text/html": [
       "<div>\n",
       "<style scoped>\n",
       "    .dataframe tbody tr th:only-of-type {\n",
       "        vertical-align: middle;\n",
       "    }\n",
       "\n",
       "    .dataframe tbody tr th {\n",
       "        vertical-align: top;\n",
       "    }\n",
       "\n",
       "    .dataframe thead th {\n",
       "        text-align: right;\n",
       "    }\n",
       "</style>\n",
       "<table border=\"1\" class=\"dataframe\">\n",
       "  <thead>\n",
       "    <tr style=\"text-align: right;\">\n",
       "      <th></th>\n",
       "      <th>TSLA</th>\n",
       "      <th>MSFT</th>\n",
       "      <th>FB</th>\n",
       "      <th>ESTC</th>\n",
       "    </tr>\n",
       "  </thead>\n",
       "  <tbody>\n",
       "    <tr>\n",
       "      <th>2019-11-26</th>\n",
       "      <td>66.973999</td>\n",
       "      <td>147.020706</td>\n",
       "      <td>199.699997</td>\n",
       "      <td>76.410004</td>\n",
       "    </tr>\n",
       "    <tr>\n",
       "      <th>2019-12-03</th>\n",
       "      <td>67.905998</td>\n",
       "      <td>148.800095</td>\n",
       "      <td>201.339996</td>\n",
       "      <td>62.279999</td>\n",
       "    </tr>\n",
       "    <tr>\n",
       "      <th>2019-12-10</th>\n",
       "      <td>76.300003</td>\n",
       "      <td>152.899551</td>\n",
       "      <td>197.919998</td>\n",
       "      <td>62.150002</td>\n",
       "    </tr>\n",
       "    <tr>\n",
       "      <th>2019-12-17</th>\n",
       "      <td>83.844002</td>\n",
       "      <td>154.747772</td>\n",
       "      <td>206.179993</td>\n",
       "      <td>64.669998</td>\n",
       "    </tr>\n",
       "    <tr>\n",
       "      <th>2019-12-24</th>\n",
       "      <td>82.940002</td>\n",
       "      <td>154.924728</td>\n",
       "      <td>204.410004</td>\n",
       "      <td>64.040001</td>\n",
       "    </tr>\n",
       "  </tbody>\n",
       "</table>\n",
       "</div>"
      ],
      "text/plain": [
       "                 TSLA        MSFT          FB       ESTC\n",
       "2019-11-26  66.973999  147.020706  199.699997  76.410004\n",
       "2019-12-03  67.905998  148.800095  201.339996  62.279999\n",
       "2019-12-10  76.300003  152.899551  197.919998  62.150002\n",
       "2019-12-17  83.844002  154.747772  206.179993  64.669998\n",
       "2019-12-24  82.940002  154.924728  204.410004  64.040001"
      ]
     },
     "execution_count": 43,
     "metadata": {},
     "output_type": "execute_result"
    }
   ],
   "source": [
    "assets = ['TSLA', 'MSFT', 'FB', 'ESTC']\n",
    "\n",
    "yahoo_financials = YahooFinancials(assets)\n",
    "\n",
    "data = yahoo_financials.get_historical_price_data(start_date='2019-01-01', \n",
    "                                                  end_date='2019-12-31', \n",
    "                                                  time_interval='weekly')\n",
    "\n",
    "prices_df = pd.DataFrame({\n",
    "    a: {x['formatted_date']: x['adjclose'] for x in data[a]['prices']} for a in assets\n",
    "})\n",
    "\n",
    "print(prices_df.shape)\n",
    "prices_df.tail()"
   ]
  }
 ],
 "metadata": {
  "kernelspec": {
   "display_name": "Python 3 (ipykernel)",
   "language": "python",
   "name": "python3"
  },
  "language_info": {
   "codemirror_mode": {
    "name": "ipython",
    "version": 3
   },
   "file_extension": ".py",
   "mimetype": "text/x-python",
   "name": "python",
   "nbconvert_exporter": "python",
   "pygments_lexer": "ipython3",
   "version": "3.8.11"
  },
  "toc": {
   "base_numbering": 1,
   "nav_menu": {},
   "number_sections": true,
   "sideBar": true,
   "skip_h1_title": true,
   "title_cell": "Table of Contents",
   "title_sidebar": "Contents",
   "toc_cell": false,
   "toc_position": {
    "height": "calc(100% - 180px)",
    "left": "10px",
    "top": "150px",
    "width": "285px"
   },
   "toc_section_display": true,
   "toc_window_display": true
  }
 },
 "nbformat": 4,
 "nbformat_minor": 5
}
